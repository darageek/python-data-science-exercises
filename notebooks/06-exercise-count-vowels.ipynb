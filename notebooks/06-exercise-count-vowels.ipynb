{
 "cells": [
  {
   "cell_type": "markdown",
   "id": "471c50e6-a47b-4e07-8789-a6e09a40aece",
   "metadata": {},
   "source": [
    "# Count Vowels  \n",
    "<b>Problem Statement</b>  \n",
    "Given a string 'st', find the count of all the lowercase vowels 'a', 'e', 'i', 'o', 'u'.  \n",
    "Input: string 'st'  \n",
    "Outputs: Count of vowels"
   ]
  },
  {
   "cell_type": "code",
   "execution_count": null,
   "id": "6b3d456f-23d4-4662-ab06-d8832feeee9b",
   "metadata": {},
   "outputs": [],
   "source": [
    "import sys\n",
    "st = sys.argv[1]\n",
    "\n",
    "print(st.count('a')+st.count('e')+st.count('i')+st.count('o')+st.count('u'))"
   ]
  },
  {
   "cell_type": "code",
   "execution_count": 2,
   "id": "0c45d8c7-1876-40d8-a05f-6b3b813e396b",
   "metadata": {},
   "outputs": [
    {
     "name": "stdin",
     "output_type": "stream",
     "text": [
      "What's your word?  ohana\n"
     ]
    },
    {
     "name": "stdout",
     "output_type": "stream",
     "text": [
      "3\n"
     ]
    }
   ],
   "source": [
    "st = str(input(\"What's your word? \"))\n",
    "print(st.count('a')+st.count('e')+st.count('i')+st.count('o')+st.count('u'))"
   ]
  }
 ],
 "metadata": {
  "kernelspec": {
   "display_name": "Python 3 (ipykernel)",
   "language": "python",
   "name": "python3"
  },
  "language_info": {
   "codemirror_mode": {
    "name": "ipython",
    "version": 3
   },
   "file_extension": ".py",
   "mimetype": "text/x-python",
   "name": "python",
   "nbconvert_exporter": "python",
   "pygments_lexer": "ipython3",
   "version": "3.12.7"
  }
 },
 "nbformat": 4,
 "nbformat_minor": 5
}
