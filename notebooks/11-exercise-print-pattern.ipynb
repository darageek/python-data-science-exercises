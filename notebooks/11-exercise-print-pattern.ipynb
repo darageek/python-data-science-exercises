{
 "cells": [
  {
   "cell_type": "markdown",
   "id": "0f6b1441-d3fa-4217-915a-ea3a90fb5892",
   "metadata": {},
   "source": [
    "# Print Pattern\n",
    "\n",
    "**Problem Statement**  \n",
    "Given a number `n`, you need to print the following pattern for `n` lines:\n",
    "\n",
    "\\*  \n",
    "\\*\\*  \n",
    "\\*\\*\\*  \n",
    "\\*\\*\\*\\*  \n",
    "...\n",
    "\n",
    "- **Input:** Integer `n`  \n",
    "- **Output:** Pattern with `n` number of lines\n"
   ]
  },
  {
   "cell_type": "code",
   "execution_count": null,
   "id": "8f73a7a0-19f0-4c2b-9310-b3b6066c4a0f",
   "metadata": {},
   "outputs": [],
   "source": [
    "import sys\n",
    "\n",
    "def pattern(n):\n",
    "    for i in range(n):\n",
    "        print('*' * (i+1))\n",
    "\n",
    "pattern(int(sys.argv[1]))"
   ]
  },
  {
   "cell_type": "code",
   "execution_count": 1,
   "id": "046dc2e6-327d-428e-8e64-958422ce8b1e",
   "metadata": {},
   "outputs": [
    {
     "name": "stdin",
     "output_type": "stream",
     "text": [
      "What's your number?  5\n"
     ]
    },
    {
     "name": "stdout",
     "output_type": "stream",
     "text": [
      "*\n",
      "**\n",
      "***\n",
      "****\n",
      "*****\n"
     ]
    }
   ],
   "source": [
    "n = int(input(\"What's your number? \"))\n",
    "\n",
    "def pattern(n):\n",
    "    for i in range(n):\n",
    "        print(\"*\" * (i+1))\n",
    "\n",
    "pattern(n)"
   ]
  }
 ],
 "metadata": {
  "kernelspec": {
   "display_name": "Python 3 (ipykernel)",
   "language": "python",
   "name": "python3"
  },
  "language_info": {
   "codemirror_mode": {
    "name": "ipython",
    "version": 3
   },
   "file_extension": ".py",
   "mimetype": "text/x-python",
   "name": "python",
   "nbconvert_exporter": "python",
   "pygments_lexer": "ipython3",
   "version": "3.12.7"
  }
 },
 "nbformat": 4,
 "nbformat_minor": 5
}
