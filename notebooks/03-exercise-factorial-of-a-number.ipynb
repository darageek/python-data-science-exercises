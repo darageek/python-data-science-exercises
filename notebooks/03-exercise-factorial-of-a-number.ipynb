{
 "cells": [
  {
   "cell_type": "markdown",
   "id": "1bbf9bb0-880d-4568-aec8-6710fbbd7758",
   "metadata": {},
   "source": [
    "# Factorial of a Number\n",
    "<b> Problem Statement </b>  \n",
    "Given an integer number 'N', Print the factorial of N.  \n",
    "<b> Factorial </b> can be defined as cumulative multiplication of numbers from 1 to N."
   ]
  },
  {
   "cell_type": "code",
   "execution_count": null,
   "id": "a17cb76a-ba4c-420a-a44d-63e63c1ac213",
   "metadata": {},
   "outputs": [],
   "source": [
    "import sys\n",
    "\n",
    "n = int(sys.argv[1])\n",
    "f = 1\n",
    "\n",
    "for i in range(n,0,-1):\n",
    "    f *= i\n",
    "print(f)"
   ]
  },
  {
   "cell_type": "code",
   "execution_count": null,
   "id": "5569a2f7-b00f-4c72-921b-2aece59e845f",
   "metadata": {},
   "outputs": [],
   "source": [
    "int(input(\"What's your name? \"))\n",
    "\n",
    "f = 1\n",
    "\n",
    "for i in range(n, 0, -1):  # desde 7 hasta 1\n",
    "    f *= i\n",
    "\n",
    "print(f)"
   ]
  }
 ],
 "metadata": {
  "kernelspec": {
   "display_name": "Python 3 (ipykernel)",
   "language": "python",
   "name": "python3"
  },
  "language_info": {
   "codemirror_mode": {
    "name": "ipython",
    "version": 3
   },
   "file_extension": ".py",
   "mimetype": "text/x-python",
   "name": "python",
   "nbconvert_exporter": "python",
   "pygments_lexer": "ipython3",
   "version": "3.12.7"
  }
 },
 "nbformat": 4,
 "nbformat_minor": 5
}
