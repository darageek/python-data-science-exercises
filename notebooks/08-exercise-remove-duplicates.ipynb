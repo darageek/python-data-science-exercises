{
 "cells": [
  {
   "cell_type": "markdown",
   "id": "32cfb5ac-f11a-4d4b-8602-09bb3f1cac16",
   "metadata": {},
   "source": [
    "# No Duplicacy\n",
    "<b> Problem Statement </b>  \n",
    "Given a list of n elements, You needto remove all the duplicate element from the list, and print only unique elements in the same order of their ocurrence  \n",
    "- Inputs: list of N integers\n",
    "- Output: print unique numbers from the list separated by spaces."
   ]
  },
  {
   "cell_type": "code",
   "execution_count": null,
   "id": "8749412f-56b4-4c59-9c98-d89a8817b86e",
   "metadata": {},
   "outputs": [],
   "source": [
    "import sys\n",
    "lst = [int(i) for i in sys.argv[1].split()]\n",
    "\n",
    "lst = lst[::-1]\n",
    "for x in lst[:]:\n",
    "    if lst.count(x) > 1:\n",
    "        lst.pop(lst.index(x))\n",
    "lst = lst[::-1]\n",
    "for i in range(len(lst)):\n",
    "    print(lst[i], end=\" \")"
   ]
  },
  {
   "cell_type": "code",
   "execution_count": 1,
   "id": "311fcec4-71d5-41ec-8954-642bee7b2ba4",
   "metadata": {},
   "outputs": [
    {
     "name": "stdin",
     "output_type": "stream",
     "text": [
      "What's your numbers?  2 2 5 8 2 1 5 3 8 0\n"
     ]
    },
    {
     "name": "stdout",
     "output_type": "stream",
     "text": [
      "2 5 8 1 3 0 "
     ]
    }
   ],
   "source": [
    "inp = input(\"What's your numbers? \")\n",
    "lst = [int(i) for i in inp.split()]\n",
    "lst = lst[::-1]\n",
    "for x in lst[:]:\n",
    "    if lst.count(x) > 1:\n",
    "        lst.pop(lst.index(x))\n",
    "lst = lst[::-1]\n",
    "for i in range(len(lst)):\n",
    "    print(lst[i], end=\" \")"
   ]
  }
 ],
 "metadata": {
  "kernelspec": {
   "display_name": "Python 3 (ipykernel)",
   "language": "python",
   "name": "python3"
  },
  "language_info": {
   "codemirror_mode": {
    "name": "ipython",
    "version": 3
   },
   "file_extension": ".py",
   "mimetype": "text/x-python",
   "name": "python",
   "nbconvert_exporter": "python",
   "pygments_lexer": "ipython3",
   "version": "3.12.7"
  }
 },
 "nbformat": 4,
 "nbformat_minor": 5
}
