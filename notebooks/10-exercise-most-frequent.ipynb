{
 "cells": [
  {
   "cell_type": "markdown",
   "id": "7b735e19-f451-4af6-835c-3811c65e2f11",
   "metadata": {},
   "source": [
    "# Most Frequent\n",
    "<b>Problem Statement</b>  \n",
    "You're given with a list of N elements. Your task is to print the maximum occurrence from the list  \n",
    "- Input: list of N element\n",
    "- Output: Maximum frequency Element"
   ]
  },
  {
   "cell_type": "code",
   "execution_count": null,
   "id": "ad548bab-44cf-4997-8967-4b2ea6d6e864",
   "metadata": {},
   "outputs": [],
   "source": [
    "import sys\n",
    "lst = [i for i in sys.argv[1].split()]\n",
    "dic = {}\n",
    "\n",
    "for x in lst:\n",
    "    if dic.get(x) is None:\n",
    "        dic[x] = 1\n",
    "    else:\n",
    "        dic[x] += 1\n",
    "\n",
    "max_key = max(dic, key=dic.get)\n",
    "print(max_key)"
   ]
  },
  {
   "cell_type": "code",
   "execution_count": 2,
   "id": "51919593-1804-4b4a-8fec-8b51762595ac",
   "metadata": {},
   "outputs": [
    {
     "name": "stdin",
     "output_type": "stream",
     "text": [
      "What's your element?  Apple Mango Apple Banana Apple Grapes Apple Mango Grapes Grapes\n"
     ]
    },
    {
     "name": "stdout",
     "output_type": "stream",
     "text": [
      "Apple\n"
     ]
    }
   ],
   "source": [
    "lst = [i for i in input(\"What's your element? \").split()]\n",
    "dic = {}\n",
    "\n",
    "for x in lst:\n",
    "    if dic.get(x) is None:\n",
    "        dic[x] = 1\n",
    "    else:\n",
    "        dic[x] += 1\n",
    "\n",
    "max_key = max(dic, key=dic.get)\n",
    "print(max_key)"
   ]
  }
 ],
 "metadata": {
  "kernelspec": {
   "display_name": "Python 3 (ipykernel)",
   "language": "python",
   "name": "python3"
  },
  "language_info": {
   "codemirror_mode": {
    "name": "ipython",
    "version": 3
   },
   "file_extension": ".py",
   "mimetype": "text/x-python",
   "name": "python",
   "nbconvert_exporter": "python",
   "pygments_lexer": "ipython3",
   "version": "3.12.7"
  }
 },
 "nbformat": 4,
 "nbformat_minor": 5
}
