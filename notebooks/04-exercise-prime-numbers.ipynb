{
 "cells": [
  {
   "cell_type": "markdown",
   "id": "d831d97b-f2e9-4a60-a02e-12221dd3d9fc",
   "metadata": {},
   "source": [
    "# Prime Numbers\n",
    "\n",
    "<b> Problem Statement: </b>  \n",
    "Given an integrer Number 'n', Write a Program to check if n is prime number or Non Prime.  \n",
    "<b> Prime Number: </b> A Number 'N' is said to be a prime number if and only if, has only 2 multiples i e 1 and N itself.\n",
    "\n",
    "- Input: integer ('n')\n",
    "- Output: True/False  \n",
    "True if Number is Prime  \n",
    "False if Number is not prime"
   ]
  },
  {
   "cell_type": "code",
   "execution_count": null,
   "id": "f0c9650e-3fcc-4036-a23d-e4891f791de8",
   "metadata": {},
   "outputs": [],
   "source": [
    "import sys\n",
    "\n",
    "n = int(sys.argv[1])\n",
    "\n",
    "if n<=1 :\n",
    "    print(False)\n",
    "else:\n",
    "    prime = True\n",
    "    for i in range(2, int(n**0.5) + 1):\n",
    "        if n%i==0:\n",
    "            prime = False\n",
    "            break\n",
    "    print(prime)"
   ]
  },
  {
   "cell_type": "code",
   "execution_count": null,
   "id": "dc0676cb-1e2d-4bc0-8310-727db948fe28",
   "metadata": {},
   "outputs": [],
   "source": [
    "n = int(input(\"What's number? \"))\n",
    "\n",
    "if n <= 1:\n",
    "    print(False)\n",
    "else:\n",
    "    is_prime = True\n",
    "    for i in range(2, int(n**0.5) + 1):\n",
    "        if n % i == 0:\n",
    "            is_prime = False\n",
    "            break\n",
    "    print(is_prime)"
   ]
  }
 ],
 "metadata": {
  "kernelspec": {
   "display_name": "Python 3 (ipykernel)",
   "language": "python",
   "name": "python3"
  },
  "language_info": {
   "codemirror_mode": {
    "name": "ipython",
    "version": 3
   },
   "file_extension": ".py",
   "mimetype": "text/x-python",
   "name": "python",
   "nbconvert_exporter": "python",
   "pygments_lexer": "ipython3",
   "version": "3.12.7"
  }
 },
 "nbformat": 4,
 "nbformat_minor": 5
}
