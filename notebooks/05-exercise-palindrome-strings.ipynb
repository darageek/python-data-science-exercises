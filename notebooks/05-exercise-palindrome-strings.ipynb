{
 "cells": [
  {
   "cell_type": "markdown",
   "id": "4fd8845f-d4bb-47f6-a786-5c7316e5456d",
   "metadata": {},
   "source": [
    "# Palindrome Strings  \n",
    "\n",
    "<b> Problem Statement </b>  \n",
    "Given a string, your task is to check if that string is a Palindrome String or Not, and Print True or False.  \n",
    "<b>Palindrome String: </b>A string is said to be palindrome if reverse of the string is same as string. For example - \"abba\" is a palindrome, but \"apple\"\n",
    "is not a palindrome string"
   ]
  },
  {
   "cell_type": "code",
   "execution_count": null,
   "id": "dc9f2ff4-1aad-4252-86ba-073e014b7fe0",
   "metadata": {},
   "outputs": [],
   "source": [
    "import sys\n",
    "s = sys.argv[1]\n",
    "\n",
    "if s[::-1] == s:\n",
    "    print(True)\n",
    "else:\n",
    "    print(False)"
   ]
  },
  {
   "cell_type": "code",
   "execution_count": 2,
   "id": "1eb89c0d-c539-4cdf-b665-52d9244241b1",
   "metadata": {},
   "outputs": [
    {
     "name": "stdin",
     "output_type": "stream",
     "text": [
      "What's your word?  apple\n"
     ]
    },
    {
     "name": "stdout",
     "output_type": "stream",
     "text": [
      "False\n"
     ]
    }
   ],
   "source": [
    "s = str(input(\"What's your word? \"))\n",
    "\n",
    "if s[::-1] == s:\n",
    "    print(True)\n",
    "else:\n",
    "    print(False)"
   ]
  },
  {
   "cell_type": "code",
   "execution_count": null,
   "id": "d55c8f6b-f14b-464e-b549-68bec968b8b8",
   "metadata": {},
   "outputs": [],
   "source": []
  }
 ],
 "metadata": {
  "kernelspec": {
   "display_name": "Python 3 (ipykernel)",
   "language": "python",
   "name": "python3"
  },
  "language_info": {
   "codemirror_mode": {
    "name": "ipython",
    "version": 3
   },
   "file_extension": ".py",
   "mimetype": "text/x-python",
   "name": "python",
   "nbconvert_exporter": "python",
   "pygments_lexer": "ipython3",
   "version": "3.12.7"
  }
 },
 "nbformat": 4,
 "nbformat_minor": 5
}
