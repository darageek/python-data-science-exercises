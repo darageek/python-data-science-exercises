{
 "cells": [
  {
   "cell_type": "markdown",
   "id": "fe76f895-bcb3-4bd2-b34c-06f6236b6b30",
   "metadata": {},
   "source": [
    "# Prime Numbers - II  \n",
    "<b>Problem Statement</b>  \n",
    "Given 2 numbers a, b. You need to find to return a list containing all the prime Numbers between a and b. [including a, b]  \n",
    "- Inputs: 2 Integers a, b\n",
    "- Outputs: Return a list containing all the primes number between a,b including boundary numbers."
   ]
  },
  {
   "cell_type": "code",
   "execution_count": null,
   "id": "2b174d16-bbbe-4bde-a054-9aa591bc3e18",
   "metadata": {},
   "outputs": [],
   "source": [
    "def find_primes(a,b):\n",
    "    lst = []\n",
    "    for i in range(max(2,a), b+1):\n",
    "        for j in range(2, int(i**0.5) +1):\n",
    "            if i%j==0:\n",
    "                break\n",
    "        else:\n",
    "            if i not in lst:\n",
    "                lst.append(i)\n",
    "    return lst"
   ]
  },
  {
   "cell_type": "code",
   "execution_count": 1,
   "id": "e8d1dd5e-6ff7-4160-966e-ce70a207c7e8",
   "metadata": {},
   "outputs": [
    {
     "name": "stdin",
     "output_type": "stream",
     "text": [
      "What's your 1 number?  10\n",
      "What's your 2 number?  20\n"
     ]
    },
    {
     "data": {
      "text/plain": [
       "[11, 13, 17, 19]"
      ]
     },
     "execution_count": 1,
     "metadata": {},
     "output_type": "execute_result"
    }
   ],
   "source": [
    "n1 = int(input(\"What's your 1 number? \"))\n",
    "n2 = int(input(\"What's your 2 number? \"))\n",
    "\n",
    "def find_primes(a,b):\n",
    "    lst = []\n",
    "    for i in range(max(2,a), b+1):\n",
    "        for j in range(2, int(i**0.5) +1):\n",
    "            if i%j==0:\n",
    "                break\n",
    "        else:\n",
    "            if i not in lst:\n",
    "                lst.append(i)\n",
    "    return lst\n",
    "\n",
    "find_primes(n1,n2)"
   ]
  }
 ],
 "metadata": {
  "kernelspec": {
   "display_name": "Python 3 (ipykernel)",
   "language": "python",
   "name": "python3"
  },
  "language_info": {
   "codemirror_mode": {
    "name": "ipython",
    "version": 3
   },
   "file_extension": ".py",
   "mimetype": "text/x-python",
   "name": "python",
   "nbconvert_exporter": "python",
   "pygments_lexer": "ipython3",
   "version": "3.12.7"
  }
 },
 "nbformat": 4,
 "nbformat_minor": 5
}
