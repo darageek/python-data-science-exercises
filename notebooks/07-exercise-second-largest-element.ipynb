{
 "cells": [
  {
   "cell_type": "markdown",
   "id": "882ec713-eaad-4e3d-98d8-76d67a562aa8",
   "metadata": {},
   "source": [
    "# Second Largest Element \n",
    "<b> Problem Statement </b>  \n",
    "Given a list of N Numbers, Find the second largest element if there exist any.\n",
    "- Inputs: list of n elements\n",
    "- Output: print Second largest Element if there's any. Otherwise print none."
   ]
  },
  {
   "cell_type": "code",
   "execution_count": null,
   "id": "d4c392f2-9674-4a34-9f17-ea64ba8a9995",
   "metadata": {},
   "outputs": [],
   "source": [
    "import sys\n",
    "lst = [int(i) for i in sys.argv[1].split()]\n",
    "if len(lst)>1:\n",
    "    lst.sort(reverse=True)\n",
    "    if lst[0]>lst[1]:\n",
    "        print(lst[1])\n",
    "    else:\n",
    "        print(None)"
   ]
  },
  {
   "cell_type": "code",
   "execution_count": 1,
   "id": "1dda1fb2-41c6-4fdf-8d1a-ab56261cc96f",
   "metadata": {},
   "outputs": [
    {
     "name": "stdin",
     "output_type": "stream",
     "text": [
      "What's your numbers?  5 15 25 30 35\n"
     ]
    },
    {
     "name": "stdout",
     "output_type": "stream",
     "text": [
      "30\n"
     ]
    }
   ],
   "source": [
    "inp = input(\"What's your numbers? \")\n",
    "lst = [int(i) for i in inp.split()]\n",
    "if len(lst)>1:\n",
    "    lst.sort(reverse=True)\n",
    "    if lst[0]>lst[1]:\n",
    "        print(lst[1])\n",
    "    else:\n",
    "        print(None)"
   ]
  },
  {
   "cell_type": "code",
   "execution_count": null,
   "id": "84761345-109c-4cff-91c8-6ce68f519994",
   "metadata": {},
   "outputs": [],
   "source": []
  }
 ],
 "metadata": {
  "kernelspec": {
   "display_name": "Python 3 (ipykernel)",
   "language": "python",
   "name": "python3"
  },
  "language_info": {
   "codemirror_mode": {
    "name": "ipython",
    "version": 3
   },
   "file_extension": ".py",
   "mimetype": "text/x-python",
   "name": "python",
   "nbconvert_exporter": "python",
   "pygments_lexer": "ipython3",
   "version": "3.12.7"
  }
 },
 "nbformat": 4,
 "nbformat_minor": 5
}
