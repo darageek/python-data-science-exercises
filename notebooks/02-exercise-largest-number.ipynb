{
 "cells": [
  {
   "cell_type": "markdown",
   "id": "7bbacf49-fbb0-4c5a-b053-eb8858463221",
   "metadata": {},
   "source": [
    "# Largest Number\n",
    "\n",
    "Given 3 numbers a,b,c. You're task is to print the largest among 3 numbers.  \n",
    "Inputs: a,b,c  \n",
    "Output:largest number"
   ]
  },
  {
   "cell_type": "code",
   "execution_count": null,
   "id": "33587a18-dac0-482d-a94d-ff8fbb012cba",
   "metadata": {},
   "outputs": [],
   "source": [
    "import sys\n",
    "\n",
    "a,b,c = int(sys.argv[1]), int(sys.argv[2]), int(sys.argv[3])\n",
    "\n",
    "if (a>b and a>c):\n",
    "    print(a)\n",
    "elif (b>c):\n",
    "    print(b)\n",
    "else: \n",
    "    print(c)"
   ]
  },
  {
   "cell_type": "code",
   "execution_count": null,
   "id": "e31b0a66-ed90-4aa0-8bc2-a194411c8b0b",
   "metadata": {},
   "outputs": [],
   "source": [
    "a = int(input(\"Enter the first number: \"))\n",
    "b = int(input(\"Enter the second number: \"))\n",
    "c = int(input(\"Enter the third number: \"))\n",
    "\n",
    "if (a>b and a>c):\n",
    "    print(a)\n",
    "elif (b>c):\n",
    "    print(b)\n",
    "else: \n",
    "    print(c)"
   ]
  },
  {
   "cell_type": "code",
   "execution_count": null,
   "id": "607d5a98-9dff-4745-9b5d-2d0fa8136abc",
   "metadata": {},
   "outputs": [],
   "source": []
  }
 ],
 "metadata": {
  "kernelspec": {
   "display_name": "Python 3 (ipykernel)",
   "language": "python",
   "name": "python3"
  },
  "language_info": {
   "codemirror_mode": {
    "name": "ipython",
    "version": 3
   },
   "file_extension": ".py",
   "mimetype": "text/x-python",
   "name": "python",
   "nbconvert_exporter": "python",
   "pygments_lexer": "ipython3",
   "version": "3.12.7"
  }
 },
 "nbformat": 4,
 "nbformat_minor": 5
}
