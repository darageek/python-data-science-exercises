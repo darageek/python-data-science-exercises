{
 "cells": [
  {
   "cell_type": "markdown",
   "id": "e1c98945-71e4-4744-b245-872726e3732a",
   "metadata": {},
   "source": [
    "# Odd Vs. Even\n",
    "Write a Program to find if a number is Odd or Even  \n",
    "- Input: n(int)\n",
    "- Output: Even or Odd"
   ]
  },
  {
   "cell_type": "code",
   "execution_count": null,
   "id": "22c6eb3e-cf16-4147-94c6-0eda7146dc8a",
   "metadata": {},
   "outputs": [],
   "source": [
    "# sys.argv is a list that contains the arguments passed to the script from the command line.\n",
    "\n",
    "import sys\n",
    "n = int(sys.argv[1])\n",
    "if (n%2==0):\n",
    "    print(\"Even\")\n",
    "else:\n",
    "    print(\"Odd\")"
   ]
  },
  {
   "cell_type": "code",
   "execution_count": null,
   "id": "c9898eed-3e54-4556-beee-181b329afe02",
   "metadata": {},
   "outputs": [],
   "source": [
    "n = int(input(\"What's your name?\"))\n",
    "if (n%2==0):\n",
    "    print(\"Even\")\n",
    "else:\n",
    "    print(\"Odd\")"
   ]
  }
 ],
 "metadata": {
  "kernelspec": {
   "display_name": "Python 3 (ipykernel)",
   "language": "python",
   "name": "python3"
  },
  "language_info": {
   "codemirror_mode": {
    "name": "ipython",
    "version": 3
   },
   "file_extension": ".py",
   "mimetype": "text/x-python",
   "name": "python",
   "nbconvert_exporter": "python",
   "pygments_lexer": "ipython3",
   "version": "3.12.7"
  }
 },
 "nbformat": 4,
 "nbformat_minor": 5
}
