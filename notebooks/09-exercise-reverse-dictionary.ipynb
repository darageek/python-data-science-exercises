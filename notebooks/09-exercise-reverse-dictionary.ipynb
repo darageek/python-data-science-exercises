{
 "cells": [
  {
   "cell_type": "markdown",
   "id": "37034e2c-ebd8-4a0d-b855-192719f1e076",
   "metadata": {},
   "source": [
    "# Reverse a Dictionary\n",
    "\n",
    "<b> Problem Statement</b>  \n",
    "Given a Dictionary 'd' your task is to reverse the dictionary. Keys should be converted to Values and, Values should be converted to keys\n",
    "- Inputs: Dictionary 'd'\n",
    "- Output: Reverse of 'd'"
   ]
  },
  {
   "cell_type": "code",
   "execution_count": null,
   "id": "ac83b384-feed-418a-aa0f-12b58e262d1f",
   "metadata": {},
   "outputs": [],
   "source": [
    "import sys\n",
    "keys = [i for i in sys.argv[1].split()]\n",
    "values = [int(i) for i in sys.argv[2].split()]\n",
    "\n",
    "dic = dict()\n",
    "for i in range(len(keys)):\n",
    "    dic[keys[i]] = values[i]\n",
    "\n",
    "dicrev = dict()\n",
    "for k,v in dic.items():\n",
    "    dicrev[v] = k\n",
    "print(dicrev)"
   ]
  },
  {
   "cell_type": "code",
   "execution_count": 1,
   "id": "9c8137a4-002e-4f4f-9474-fe5babe5e94e",
   "metadata": {},
   "outputs": [
    {
     "name": "stdin",
     "output_type": "stream",
     "text": [
      "What's your keys?  a b c d e\n",
      "What's your values?  18 19 20 21 22\n"
     ]
    },
    {
     "name": "stdout",
     "output_type": "stream",
     "text": [
      "{18: 'a', 19: 'b', 20: 'c', 21: 'd', 22: 'e'}\n"
     ]
    }
   ],
   "source": [
    "keys = input(\"What's your keys? \").split()\n",
    "values = [int(i) for i in input(\"What's your values? \").split()]\n",
    "\n",
    "dic = dict()\n",
    "for i in range(len(keys)):\n",
    "    dic[keys[i]] = values[i]\n",
    "\n",
    "dicrev = dict()\n",
    "for k,v in dic.items():\n",
    "    dicrev[v] = k\n",
    "print(dicrev)"
   ]
  }
 ],
 "metadata": {
  "kernelspec": {
   "display_name": "Python 3 (ipykernel)",
   "language": "python",
   "name": "python3"
  },
  "language_info": {
   "codemirror_mode": {
    "name": "ipython",
    "version": 3
   },
   "file_extension": ".py",
   "mimetype": "text/x-python",
   "name": "python",
   "nbconvert_exporter": "python",
   "pygments_lexer": "ipython3",
   "version": "3.12.7"
  }
 },
 "nbformat": 4,
 "nbformat_minor": 5
}
